import os
import unittest
from app import app, client, db

#Configurar variables de entorno para la prueba
os.environ['MONGO_URI'] = 'mongodb://localhost:27017/test_sistema_mensajeria'
os.environ['SECRET_KEY'] = 'test_secret_key'

#Asegurarse de que estamos en el entorno correcto
print("Current environment:", os.environ['CONDA_DEFAULT_ENV'])

################################################################################

import os
import unittest
from app import app, db, client

#Configurar variables de entorno para la prueba
os.environ['MONGO_URI'] = 'mongodb://localhost:27017/test_sistema_mensajeria'
os.environ['SECRET_KEY'] = 'test_secret_key'

#Asegurarse de que estamos en el entorno correcto
print("Current environment:", os.environ['CONDA_DEFAULT_ENV'])

class FlaskTestCase(unittest.TestCase):

    def setUp(self):
        self.app = app.test_client()
        self.app.testing = True

    def test_inicio(self):
        response = self.app.get('/')
        self.assertEqual(response.status_code, 200)
        self.assertIn('Bienvenido a la aplicación de mensajería'.encode('utf-8'), response.data)

    def test_login(self):
        response = self.app.get('/login')
        self.assertEqual(response.status_code, 200)
        self.assertIn('Login'.encode('utf-8'), response.data)

    def test_registro(self):
        response = self.app.get('/registro')
        self.assertEqual(response.status_code, 200)
        self.assertIn('Registro'.encode('utf-8'), response.data)

#Ejecutar las pruebas
unittest.main(argv=[''], verbosity=2, exit=False)
